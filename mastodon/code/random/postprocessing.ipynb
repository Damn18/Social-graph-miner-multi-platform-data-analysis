{
 "cells": [
  {
   "cell_type": "markdown",
   "id": "90b65a36",
   "metadata": {},
   "source": [
    "# Post-processing\n",
    "\n",
    "- check number of posts per month \n",
    "- check english and removal of non-english text \n",
    "- check presence of duplicates + removal \n",
    "- random sample: at least 100 post per month \n"
   ]
  },
  {
   "cell_type": "code",
   "execution_count": 2,
   "id": "ac9e3655",
   "metadata": {},
   "outputs": [],
   "source": [
    "import os\n",
    "import json\n",
    "import random\n",
    "from langdetect import detect\n",
    "from bs4 import BeautifulSoup"
   ]
  },
  {
   "cell_type": "markdown",
   "id": "a0443707",
   "metadata": {},
   "source": [
    "## 1. Number of posts "
   ]
  },
  {
   "cell_type": "code",
   "execution_count": 3,
   "id": "2968e6dd",
   "metadata": {},
   "outputs": [
    {
     "name": "stdout",
     "output_type": "stream",
     "text": [
      "100_post_mastodon_2024-02.json: 150 elements\n",
      "100_post_mastodon_2024-03.json: 143 elements\n",
      "100_post_mastodon_2024-04.json: 122 elements\n",
      "100_post_mastodon_2024-05.json: 179 elements\n"
     ]
    }
   ],
   "source": [
    "# CHECK NUMERO DI POST PER MESE \n",
    "\n",
    "folder = \"/home/damn/Documents/PROJECTS/THESIS/Social-graph-miner-multi-platform-data-analysis/mastodon/dataset/100_posts\"\n",
    "\n",
    "for fname in os.listdir(folder):\n",
    "    if fname.endswith(\".json\"):\n",
    "        fpath = os.path.join(folder, fname)\n",
    "        with open(fpath, \"r\", encoding=\"utf-8\") as f:\n",
    "            data = json.load(f)\n",
    "            print(f\"{fname}: {len(data)} elements\")\n"
   ]
  },
  {
   "cell_type": "markdown",
   "id": "a2dce9d9",
   "metadata": {},
   "source": [
    "## 2. Duplicates"
   ]
  },
  {
   "cell_type": "code",
   "execution_count": 4,
   "id": "51f2aede",
   "metadata": {},
   "outputs": [
    {
     "name": "stdout",
     "output_type": "stream",
     "text": [
      "100_post_mastodon_2024-02.json: nessun duplicato\n",
      "100_post_mastodon_2024-03.json: nessun duplicato\n",
      "100_post_mastodon_2024-04.json: nessun duplicato\n",
      "100_post_mastodon_2024-05.json: nessun duplicato\n"
     ]
    }
   ],
   "source": [
    "for fname in os.listdir(folder):\n",
    "    if not fname.endswith(\".json\"):\n",
    "        continue\n",
    "\n",
    "    fpath = os.path.join(folder, fname)\n",
    "    with open(fpath, \"r\", encoding=\"utf-8\") as file:\n",
    "        data = json.load(file)\n",
    "\n",
    "    seen = set()\n",
    "    duplicates = []\n",
    "    unique_posts = []\n",
    "\n",
    "    for post in data:\n",
    "        post_id = post.get(\"uri\")\n",
    "        if post_id in seen:\n",
    "            duplicates.append(post)\n",
    "        else:\n",
    "            seen.add(post_id)\n",
    "            unique_posts.append(post)\n",
    "\n",
    "    if duplicates:\n",
    "        print(f\"{fname}: trovati {len(duplicates)} duplicati\")\n",
    "    else:\n",
    "        print(f\"{fname}: nessun duplicato\")\n",
    "\n",
    "    # Uncomment to overwrite files without duplicates \n",
    "    # if len(unique_posts) < len(data):\n",
    "    #     with open(fpath, \"w\", encoding=\"utf-8\") as file:\n",
    "    #         json.dump(unique_posts, file, ensure_ascii=False, indent=2)\n",
    "    #     print(f\"{fname}: sovrascritto con {len(unique_posts)} post unici\")\n"
   ]
  },
  {
   "cell_type": "markdown",
   "id": "1fe92744",
   "metadata": {},
   "source": [
    "# 3. Check english "
   ]
  },
  {
   "cell_type": "code",
   "execution_count": 8,
   "id": "eb2a64c1",
   "metadata": {},
   "outputs": [
    {
     "name": "stdout",
     "output_type": "stream",
     "text": [
      "100_post_mastodon_2024-02.json: 145 English posts out of 150\n",
      "100_post_mastodon_2024-03.json: 133 English posts out of 143\n",
      "100_post_mastodon_2024-04.json: 111 English posts out of 122\n",
      "100_post_mastodon_2024-05.json: 169 English posts out of 179\n"
     ]
    }
   ],
   "source": [
    "for fname in os.listdir(folder):\n",
    "    file_path = os.path.join(folder, fname)\n",
    "    with open(file_path, encoding=\"utf-8\") as f:\n",
    "        posts = json.load(f)\n",
    "\n",
    "    english_posts = []\n",
    "    for post in posts:\n",
    "        lang = post.get(\"language\")\n",
    "        if lang is not None:\n",
    "            is_en = (lang == \"en\")\n",
    "        else:\n",
    "            soup = BeautifulSoup(post.get(\"content\", \"\"), \"html.parser\")\n",
    "            try:\n",
    "                is_en = detect(soup.get_text()) == \"en\"\n",
    "            except:\n",
    "                is_en = False\n",
    "\n",
    "        if is_en:\n",
    "            english_posts.append(post)\n",
    "\n",
    "    # overwrite with only English posts\n",
    "    with open(file_path, \"w\", encoding=\"utf-8\") as f:\n",
    "        json.dump(english_posts, f, ensure_ascii=False, indent=2)\n",
    "\n",
    "    print(f\"{fname}: {len(english_posts)} English posts out of {len(posts)}\")\n"
   ]
  },
  {
   "cell_type": "markdown",
   "id": "28333d75",
   "metadata": {},
   "source": [
    "## 4. Random sample"
   ]
  },
  {
   "cell_type": "code",
   "execution_count": 9,
   "id": "fc2f6d8d",
   "metadata": {},
   "outputs": [
    {
     "name": "stdout",
     "output_type": "stream",
     "text": [
      "100_post_mastodon_2024-02.json: sovrascritto con 100 post\n",
      "100_post_mastodon_2024-03.json: sovrascritto con 100 post\n",
      "100_post_mastodon_2024-04.json: sovrascritto con 100 post\n",
      "100_post_mastodon_2024-05.json: sovrascritto con 100 post\n"
     ]
    }
   ],
   "source": [
    "for fname in os.listdir(folder):\n",
    "    if not fname.endswith(\".json\"):\n",
    "        continue\n",
    "\n",
    "    fpath = os.path.join(folder, fname)\n",
    "    with open(fpath, encoding=\"utf-8\") as f:\n",
    "        posts = json.load(f)\n",
    "\n",
    "    if len(posts) >= 100:\n",
    "        sampled = random.sample(posts, 100)  # esattamente 100\n",
    "        with open(fpath, \"w\", encoding=\"utf-8\") as f:\n",
    "            json.dump(sampled, f, ensure_ascii=False, indent=2)\n",
    "        print(f\"{fname}: sovrascritto con 100 post\")\n",
    "    else:\n",
    "        print(f\"{fname}: solo {len(posts)} post disponibili (meno di 100, non modificato)\")\n"
   ]
  }
 ],
 "metadata": {
  "kernelspec": {
   "display_name": "Python 3",
   "language": "python",
   "name": "python3"
  },
  "language_info": {
   "codemirror_mode": {
    "name": "ipython",
    "version": 3
   },
   "file_extension": ".py",
   "mimetype": "text/x-python",
   "name": "python",
   "nbconvert_exporter": "python",
   "pygments_lexer": "ipython3",
   "version": "3.12.11"
  }
 },
 "nbformat": 4,
 "nbformat_minor": 5
}
